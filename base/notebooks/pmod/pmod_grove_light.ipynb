{
 "cells": [
  {
   "cell_type": "markdown",
   "metadata": {},
   "source": [
    "# Grove Light Sensor 1.1\n",
    "\n",
    "This example shows how to use the [Grove Light Sensor v1.1](https://www.seeedstudio.com/Grove-Light-Sensor-p-746.html). You will also see how to plot a graph using matplotlib.\n",
    "\n",
    "The Grove Light Sensor produces an analog signal which requires an ADC.\n",
    "\n",
    "The Grove Light Sensor, PYNQ Grove Adapter, and Grove I2C ADC are used for this example. \n",
    "\n",
    "When the ambient light intensity increases, the resistance of the LDR or Photoresistor will decrease. This means that the output signal from this module will be HIGH in bright light, and LOW in the dark. Values for the sensor ranges from ~5.0 (bright) to >35.0 (dark)."
   ]
  },
  {
   "cell_type": "markdown",
   "metadata": {},
   "source": [
    "### 1. Load overlay\n",
    "Download base overlay."
   ]
  },
  {
   "cell_type": "code",
   "execution_count": 1,
   "metadata": {},
   "outputs": [],
   "source": [
    "from pynq.overlays.base import BaseOverlay\n",
    "base = BaseOverlay(\"base.bit\")"
   ]
  },
  {
   "cell_type": "markdown",
   "metadata": {},
   "source": [
    "### 2. Read single luminance value\n",
    "Now read from the Grove Light sensor which is connected to the ADC. In this example, the PYNQ Grove Adapter is connected to PMODA interface on the board.\n",
    "\n",
    "The Grove I2C ADC is used as a bridge between G4 on the Grove Adapter and the Grove Light Sensor."
   ]
  },
  {
   "cell_type": "code",
   "execution_count": 2,
   "metadata": {},
   "outputs": [
    {
     "name": "stdout",
     "output_type": "stream",
     "text": [
      "5.71\n"
     ]
    }
   ],
   "source": [
    "from pynq.lib.pmod import Grove_Light\n",
    "from pynq.lib.pmod import PMOD_GROVE_G4\n",
    "\n",
    "lgt = Grove_Light(base.PMODA,PMOD_GROVE_G4)\n",
    "\n",
    "sensor_val = lgt.read()\n",
    "print(sensor_val)"
   ]
  },
  {
   "cell_type": "markdown",
   "metadata": {},
   "source": [
    "### 3. Plot the light intensity over time\n",
    "This Python code will do multiple light measurements over a 10 second period. \n",
    "\n",
    "To change the light intensity, cover and uncover the light sensor. In typical ambient light, there is no need to provide an external light source, as the sensor is already reading at full scale. "
   ]
  },
  {
   "cell_type": "code",
   "execution_count": 3,
   "metadata": {},
   "outputs": [
    {
     "data": {
      "image/png": "[encoded data removed]",
      "text/plain": [
       "<matplotlib.figure.Figure at 0x315ad610>"
      ]
     },
     "metadata": {},
     "output_type": "display_data"
    }
   ],
   "source": [
    "import time\n",
    "%matplotlib inline\n",
    "import matplotlib.pyplot as plt\n",
    "\n",
    "lgt.set_log_interval_ms(100)\n",
    "lgt.start_log()\n",
    "# Change input during this time\n",
    "time.sleep(10)\n",
    "r_log = lgt.get_log()\n",
    "\n",
    "plt.plot(range(len(r_log)), r_log, 'ro')\n",
    "plt.title('Grove Light Plot')\n",
    "min_r_log = min(r_log)\n",
    "max_r_log = max(r_log)\n",
    "plt.axis([0, len(r_log), min_r_log, max_r_log])\n",
    "plt.show()"
   ]
  },
  {
   "cell_type": "markdown",
   "metadata": {},
   "source": [
    "Copyright (c) 2022 Xilinx, Inc \n",
    "<br>\n",
    "Copyright (C) 2022-2025 Advanced Micro Devices, Inc. \n",
    "<br>\n",
    "SPDX-License-Identifier: BSD-3-Clause "
   ]
  }
 ],
 "metadata": {
  "kernelspec": {
   "display_name": "Python 3",
   "language": "python",
   "name": "python3"
  },
  "language_info": {
   "codemirror_mode": {
    "name": "ipython",
    "version": 3
   },
   "file_extension": ".py",
   "mimetype": "text/x-python",
   "name": "python",
   "nbconvert_exporter": "python",
   "pygments_lexer": "ipython3",
   "version": "3.6.5"
  }
 },
 "nbformat": 4,
 "nbformat_minor": 1
}
