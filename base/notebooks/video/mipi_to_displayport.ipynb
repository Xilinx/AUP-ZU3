{
 "cells": [
  {
   "cell_type": "markdown",
   "metadata": {
    "tags": []
   },
   "source": [
    "# Display MIPI input on DisplayPort output\n",
    "---"
   ]
  },
  {
   "cell_type": "markdown",
   "metadata": {},
   "source": [
    "## Aim\n",
    "\n",
    "* This notebook illustrates how to setup a MIPI camera (Digilent Pcam 5C) and route what is seen by the camera to the DisplayPort display. \n",
    "\n",
    "## References\n",
    "* [Digilent Pcam 5C Camera](https://reference.digilentinc.com/reference/add-ons/pcam-5c/start)    \n",
    "\n",
    "## Revision History\n",
    "\n",
    "* Initial Release\n",
    "* 1 August 2025 | Use updated API\n",
    "\n",
    "---"
   ]
  },
  {
   "cell_type": "markdown",
   "metadata": {},
   "source": [
    "## Load _base_ Overlay, import video and image libraries"
   ]
  },
  {
   "cell_type": "code",
   "execution_count": null,
   "metadata": {},
   "outputs": [],
   "source": [
    "from pynq.overlays.base import BaseOverlay\n",
    "from pynq.devicetree import DeviceTreeSegment\n",
    "from pynq.lib.video import *\n",
    "import PIL.Image\n",
    "\n",
    "base = BaseOverlay(\"base.bit\")\n"
   ]
  },
  {
   "cell_type": "markdown",
   "metadata": {},
   "source": [
    "## Initialize and setup the MIPI camera\n",
    "Grab a handler to the MIPI hierarchy, this will initialize the camera"
   ]
  },
  {
   "cell_type": "code",
   "execution_count": null,
   "metadata": {},
   "outputs": [],
   "source": [
    "mipi = base.mipi"
   ]
  },
  {
   "cell_type": "markdown",
   "metadata": {},
   "source": [
    "Setup the camera for 1280x720 mode with 24-bits pixel. Start reading from the camera."
   ]
  },
  {
   "cell_type": "code",
   "execution_count": null,
   "metadata": {},
   "outputs": [],
   "source": [
    "videomode = VideoMode(1280, 720, 24)\n",
    "\n",
    "mipi.configure(videomode)\n",
    "\n",
    "mipi.start()"
   ]
  },
  {
   "cell_type": "markdown",
   "metadata": {},
   "source": [
    "Grab a frame and display in the notebook. \n",
    "\n",
    "Note that the channels are arranged differently that what PIL expects, for that reason we reorder them "
   ]
  },
  {
   "cell_type": "code",
   "execution_count": null,
   "metadata": {},
   "outputs": [],
   "source": [
    "frame = mipi.readframe()\n",
    "PIL.Image.fromarray(frame[:,:,[2,1,0]])"
   ]
  },
  {
   "cell_type": "markdown",
   "metadata": {},
   "source": [
    "## Enable and start the DisplayPort output"
   ]
  },
  {
   "cell_type": "markdown",
   "metadata": {},
   "source": [
    "Since it takes about 2 seconds for the hardware to handshake with the connected DisplayPort display after turning it on wait for that long"
   ]
  },
  {
   "cell_type": "code",
   "execution_count": null,
   "metadata": {},
   "outputs": [],
   "source": [
    "displayport = DisplayPort()\n",
    "displayport.configure(VideoMode(1280, 720, 24), PIXEL_RGB)"
   ]
  },
  {
   "cell_type": "markdown",
   "metadata": {},
   "source": [
    "Read and display 200 frames"
   ]
  },
  {
   "cell_type": "code",
   "execution_count": null,
   "metadata": {},
   "outputs": [],
   "source": [
    "import time\n",
    "num_frames = 200\n",
    "start = time.time()\n",
    "\n",
    "for _ in range (num_frames):\n",
    "    frame = displayport.newframe()\n",
    "    frame[:] = mipi.readframe()\n",
    "    displayport.writeframe(frame)\n",
    "\n",
    "end = time.time()\n",
    "duration = end - start\n",
    "print(f\"Took {duration} seconds at {num_frames / duration} FPS\")"
   ]
  },
  {
   "cell_type": "markdown",
   "metadata": {},
   "source": [
    "## Cleanup DisplayPort out and MIPI camera buffer"
   ]
  },
  {
   "cell_type": "code",
   "execution_count": null,
   "metadata": {},
   "outputs": [],
   "source": [
    "displayport.close()\n",
    "\n",
    "mipi.stop()\n"
   ]
  },
  {
   "cell_type": "markdown",
   "metadata": {},
   "source": [
    "Copyright (c) 2022 Xilinx, Inc \n",
    "<br>\n",
    "Copyright (C) 2022-2025 Advanced Micro Devices, Inc. \n",
    "<br>\n",   
    "SPDX-License-Identifier: BSD-3-Clause "
   ]
  },
  {
   "cell_type": "markdown",
   "metadata": {},
   "source": [
    "---"
   ]
  },
  {
   "cell_type": "markdown",
   "metadata": {},
   "source": [
    "---"
   ]
  }
 ],
 "metadata": {
  "kernelspec": {
   "display_name": "Python 3 (ipykernel)",
   "language": "python",
   "name": "python3"
  },
  "language_info": {
   "codemirror_mode": {
    "name": "ipython",
    "version": 3
   },
   "file_extension": ".py",
   "mimetype": "text/x-python",
   "name": "python",
   "nbconvert_exporter": "python",
   "pygments_lexer": "ipython3",
   "version": "3.10.4"
  }
 },
 "nbformat": 4,
 "nbformat_minor": 4
}
